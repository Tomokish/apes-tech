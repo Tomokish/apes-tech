{
  "nbformat": 4,
  "nbformat_minor": 0,
  "metadata": {
    "colab": {
      "private_outputs": true,
      "provenance": [],
      "include_colab_link": true
    },
    "kernelspec": {
      "name": "python3",
      "display_name": "Python 3"
    }
  },
  "cells": [
    {
      "cell_type": "markdown",
      "metadata": {
        "id": "view-in-github",
        "colab_type": "text"
      },
      "source": [
        "<a href=\"https://colab.research.google.com/github/Tomokish/apes-tech/blob/main/advanced_functions.ipynb\" target=\"_parent\"><img src=\"https://colab.research.google.com/assets/colab-badge.svg\" alt=\"Open In Colab\"/></a>"
      ]
    },
    {
      "cell_type": "markdown",
      "metadata": {
        "id": "AMAaEQjBAxjc"
      },
      "source": [
        "<h2> Advanced Functions </h2>\n",
        "This notebook is a series of simple examples to show the advanced functions capability of Python"
      ]
    },
    {
      "cell_type": "code",
      "metadata": {
        "id": "vPjCMEhPAtV7"
      },
      "source": [
        "\"\"\"\n",
        "Simple examples of advanced functions\n",
        "\"\"\"\n",
        "def nested_function(outer_number):\n",
        "  def print_number():\n",
        "    print (f\"Nested Function: argument: {outer_number}\")\n",
        "    local_number = outer_number\n",
        "    local_number += 1\n",
        "    print (f\"Nested Function: local_number: {local_number}\")\n",
        "\n",
        "  print_number()\n",
        "\n",
        "def closure(outer_number):\n",
        "  def print_number():\n",
        "    print (f\"\\nClosure_outer_number: {outer_number}\")\n",
        "    local_number = outer_number\n",
        "    local_number += 1\n",
        "    print (f\"Closure_local_number: {local_number}\")\n",
        "\n",
        "  return print_number\n",
        "\n",
        "def higher_order_function(function_value):\n",
        "  print (\"\\nHigher order function demo. \")\n",
        "  print (\"Running function from the Closure\")\n",
        "  function_value()\n",
        "\n",
        "\n",
        "nested_function(0)\n",
        "\n",
        "#Closure Demo\n",
        "output_function = closure(0)\n",
        "#Run Inner Function\n",
        "output_function()\n",
        "\n",
        "higher_order_function(output_function)\n",
        "\n"
      ],
      "execution_count": null,
      "outputs": []
    }
  ]
}