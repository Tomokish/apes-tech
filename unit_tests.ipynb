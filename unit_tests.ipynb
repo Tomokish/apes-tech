{
  "nbformat": 4,
  "nbformat_minor": 0,
  "metadata": {
    "colab": {
      "private_outputs": true,
      "provenance": [],
      "include_colab_link": true
    },
    "kernelspec": {
      "name": "python3",
      "display_name": "Python 3"
    }
  },
  "cells": [
    {
      "cell_type": "markdown",
      "metadata": {
        "id": "view-in-github",
        "colab_type": "text"
      },
      "source": [
        "<a href=\"https://colab.research.google.com/github/Tomokish/apes-tech/blob/main/unit_tests.ipynb\" target=\"_parent\"><img src=\"https://colab.research.google.com/assets/colab-badge.svg\" alt=\"Open In Colab\"/></a>"
      ]
    },
    {
      "cell_type": "markdown",
      "metadata": {
        "id": "FtQz7mJzcNEY"
      },
      "source": [
        "<h1> Unit tests </h1>\n",
        "\n",
        "A simple notebook to demonstrate the use of unit tests"
      ]
    },
    {
      "cell_type": "code",
      "metadata": {
        "id": "M5U4OeggcKcn"
      },
      "source": [
        "def sum (first_number, second_number):\n",
        "  return first_number + second_number"
      ],
      "execution_count": null,
      "outputs": []
    },
    {
      "cell_type": "code",
      "metadata": {
        "id": "0_RQMTDkc0Nu"
      },
      "source": [
        "import unittest\n",
        "class TestSum(unittest.TestCase):\n",
        "\n",
        "   def test_sum(self):\n",
        "       self.assertEqual(sum(2,3), 5, \"should be 5\")\n",
        "\n",
        "   def test_sum_fail(self):\n",
        "       self.assertEqual(sum(2,3), 6, \"should be 5\")\n",
        "\n",
        "   def test_sum_true(self):\n",
        "       self.assertTrue(sum(2,3)>4)\n",
        ""
      ],
      "execution_count": null,
      "outputs": []
    },
    {
      "cell_type": "code",
      "metadata": {
        "id": "KlkZcetfgJPj"
      },
      "source": [
        "if __name__ == '__main__':\n",
        "    unittest.main(argv=['first-arg-is-ignored'], exit=False)"
      ],
      "execution_count": null,
      "outputs": []
    }
  ]
}