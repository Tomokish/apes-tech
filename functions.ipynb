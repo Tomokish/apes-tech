{
  "nbformat": 4,
  "nbformat_minor": 0,
  "metadata": {
    "colab": {
      "private_outputs": true,
      "provenance": [],
      "include_colab_link": true
    },
    "kernelspec": {
      "name": "python3",
      "display_name": "Python 3"
    }
  },
  "cells": [
    {
      "cell_type": "markdown",
      "metadata": {
        "id": "view-in-github",
        "colab_type": "text"
      },
      "source": [
        "<a href=\"https://colab.research.google.com/github/Tomokish/apes-tech/blob/main/functions.ipynb\" target=\"_parent\"><img src=\"https://colab.research.google.com/assets/colab-badge.svg\" alt=\"Open In Colab\"/></a>"
      ]
    },
    {
      "cell_type": "markdown",
      "metadata": {
        "id": "7jR_MrGv67y9"
      },
      "source": [
        "<h2> Functions </h2>\n",
        "<p> Simple notebook that shows argument passing </p>"
      ]
    },
    {
      "cell_type": "code",
      "metadata": {
        "id": "UwiBRboK646A"
      },
      "source": [
        "\"\"\"\n",
        "Simple demo of non-keyword arguments\n",
        "\"\"\"\n",
        "\n",
        "def print_out_simple_arguments(*args):\n",
        "  \"\"\"\n",
        "  Print out the contents of *args\n",
        "  \"\"\"\n",
        "  for arg in args:\n",
        "    print (arg)\n",
        "\n",
        "def print_out_keyword_arguments(**kwargs):\n",
        "  \"\"\"\n",
        "  Print out contents of **kwargs\n",
        "  \"\"\"\n",
        "  for arg, value in kwargs.items():\n",
        "    print (f\"Parameter {arg} \\t Argument {value}\")\n",
        "\n",
        "print_out_simple_arguments('This', 'is', 'a', 'test')\n",
        "\n",
        "print_out_keyword_arguments(determiner = 'This', \\\n",
        "                            stopword = 'is', article ='a', noun = 'test')\n",
        "\n"
      ],
      "execution_count": null,
      "outputs": []
    }
  ]
}