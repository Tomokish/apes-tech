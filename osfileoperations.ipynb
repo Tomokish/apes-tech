{
  "nbformat": 4,
  "nbformat_minor": 0,
  "metadata": {
    "colab": {
      "private_outputs": true,
      "provenance": [],
      "include_colab_link": true
    },
    "kernelspec": {
      "name": "python3",
      "display_name": "Python 3"
    },
    "language_info": {
      "name": "python"
    }
  },
  "cells": [
    {
      "cell_type": "markdown",
      "metadata": {
        "id": "view-in-github",
        "colab_type": "text"
      },
      "source": [
        "<a href=\"https://colab.research.google.com/github/Tomokish/apes-tech/blob/main/osfileoperations.ipynb\" target=\"_parent\"><img src=\"https://colab.research.google.com/assets/colab-badge.svg\" alt=\"Open In Colab\"/></a>"
      ]
    },
    {
      "cell_type": "markdown",
      "metadata": {
        "id": "QY7Ml2K0nFNT"
      },
      "source": [
        "Simple Demo of File Operations in the os package\n",
        "\n",
        "\n"
      ]
    },
    {
      "cell_type": "code",
      "metadata": {
        "id": "b5RwdjbMnEHd"
      },
      "source": [
        "import os\n",
        "import shutil\n",
        "FILE_NAME = \"test.txt\"\n",
        "FOLDER_NAME = \"data/files\"\n",
        "print (f\"File {FILE_NAME} exists: {os.path.exists(FILE_NAME)}\")\n",
        "\n",
        "#create file\n",
        "print (f\"Creating File {FILE_NAME}\")\n",
        "\n",
        "os.mknod(FILE_NAME)\n",
        "print (f\"File {FILE_NAME} exists: {os.path.exists(FILE_NAME)}\")\n",
        "\n",
        "#Create Folder\n",
        "if not os.path.exists(FOLDER_NAME):\n",
        "  os.makedirs(FOLDER_NAME)\n",
        "\n",
        "LOCATION = FOLDER_NAME + '/' + FILE_NAME\n",
        "shutil.move(FILE_NAME,LOCATION)\n",
        "\n",
        "print (f\"Current Directory {os.getcwd()}\")\n",
        "print (f\"Current Contents {os.listdir()}\")\n",
        "\n",
        "os.chdir(FOLDER_NAME)\n",
        "\n",
        "print (f\"Current Directory {os.getcwd()}\")\n",
        "print (f\"Current Contents {os.listdir()}\")\n",
        "\n",
        "os.chdir(\"..\")\n",
        "\n",
        "print (f\"Current Directory {os.getcwd()}\")\n",
        "os.chdir(\"..\")\n",
        "\n",
        "print (f\"Current Directory {os.getcwd()}\")"
      ],
      "execution_count": null,
      "outputs": []
    }
  ]
}