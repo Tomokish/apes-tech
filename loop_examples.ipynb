{
  "nbformat": 4,
  "nbformat_minor": 0,
  "metadata": {
    "colab": {
      "private_outputs": true,
      "provenance": [],
      "include_colab_link": true
    },
    "kernelspec": {
      "name": "python3",
      "display_name": "Python 3"
    }
  },
  "cells": [
    {
      "cell_type": "markdown",
      "metadata": {
        "id": "view-in-github",
        "colab_type": "text"
      },
      "source": [
        "<a href=\"https://colab.research.google.com/github/Tomokish/apes-tech/blob/main/loop_examples.ipynb\" target=\"_parent\"><img src=\"https://colab.research.google.com/assets/colab-badge.svg\" alt=\"Open In Colab\"/></a>"
      ]
    },
    {
      "cell_type": "markdown",
      "metadata": {
        "id": "_xJe3uaMmzxf"
      },
      "source": [
        "<h1> Examples of Loops </h1>\n",
        "\n",
        "The following are examples of simple loops"
      ]
    },
    {
      "cell_type": "code",
      "metadata": {
        "id": "S7DErHhdms1G"
      },
      "source": [
        "\"\"\"\n",
        "The following is an example of while loops\n",
        "\"\"\"\n",
        "import itertools\n",
        "def while_loop_example():\n",
        "  year = 2000\n",
        "  while year < 2010:\n",
        "    year += 1\n",
        "    print (year)\n",
        "\n",
        "def for_numeric_range():\n",
        "  for r in range(10):\n",
        "    print (r)\n",
        "\n",
        "def for_iteration():\n",
        "  steps  = [\"first\", \"second\", \"third\"]\n",
        "  for step in steps:\n",
        "    print (step)\n",
        "\n",
        "\n",
        "def accumlate_example():\n",
        "  for i in itertools.accumulate(range(10),lambda x,y:x*y+1):\n",
        "    print (i)\n",
        "\n",
        "def combinations_example():\n",
        "  steps  = [\"first\", \"second\", \"third\"]\n",
        "  for i in itertools.combinations(steps,2):\n",
        "    print (i)\n",
        "\n",
        "def count_example():\n",
        "  for i in itertools.count(10,2):\n",
        "    print (i)\n",
        "    if i > 20:\n",
        "      break\n",
        "\n",
        "\n",
        "\n",
        "print (\"While example\")\n",
        "while_loop_example()\n",
        "print (\"For numeric range\")\n",
        "for_numeric_range()\n",
        "print (\"For iteration \")\n",
        "for_iteration()\n",
        "print (\"accumlate example\")\n",
        "accumlate_example()\n",
        "print (\"combinations example\")\n",
        "combinations_example()\n",
        "print (\"count example\")\n",
        "count_example()"
      ],
      "execution_count": null,
      "outputs": []
    }
  ]
}