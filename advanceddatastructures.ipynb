{
  "nbformat": 4,
  "nbformat_minor": 0,
  "metadata": {
    "colab": {
      "private_outputs": true,
      "provenance": [],
      "include_colab_link": true
    },
    "kernelspec": {
      "name": "python3",
      "display_name": "Python 3"
    },
    "language_info": {
      "name": "python"
    }
  },
  "cells": [
    {
      "cell_type": "markdown",
      "metadata": {
        "id": "view-in-github",
        "colab_type": "text"
      },
      "source": [
        "<a href=\"https://colab.research.google.com/github/Tomokish/apes-tech/blob/main/advanceddatastructures.ipynb\" target=\"_parent\"><img src=\"https://colab.research.google.com/assets/colab-badge.svg\" alt=\"Open In Colab\"/></a>"
      ]
    },
    {
      "cell_type": "markdown",
      "metadata": {
        "id": "JhVpvsU_vQfc"
      },
      "source": [
        "<h1> Advanced Data Structures </h1>\n",
        "This workbook is to support the lecturecast. It will show some simple examples about OO Programming Python. <\\br>\n",
        "\n",
        "First example is how to write a class.\n"
      ]
    },
    {
      "cell_type": "code",
      "metadata": {
        "id": "AvTedmmxvMNo"
      },
      "source": [
        "class Example:\n",
        "  \"\"\"\n",
        "  Self is a reprsentation of an instance to the object.\n",
        "  It will have references to the methods to the object\n",
        "  \"\"\"\n",
        "  __private_variable = 10\n",
        "\n",
        "  def __init__(self):\n",
        "    \"\"\"\n",
        "    Constructor. Triggers before all other methods\n",
        "    \"\"\"\n",
        "    print (\"Constructor\")\n",
        "\n",
        "  def public_method(self):\n",
        "    \"\"\"\n",
        "    Methods in Python are default public\n",
        "    \"\"\"\n",
        "    print (\"Public method\")\n",
        "\n",
        "  def __private_method(self):\n",
        "    \"\"\"\n",
        "    Double underscore in front of name makes the method private\n",
        "    \"\"\"\n",
        "    print (\"Private method\")\n",
        "\n",
        "  def accessor_method(self):\n",
        "    \"\"\"\n",
        "    Use this function to call the private function.\n",
        "    We call this function to control access to private\n",
        "    methods and data\n",
        "    \"\"\"\n",
        "    print (\"\\nPrinting private variable from accessor function\")\n",
        "    print (self.__private_variable)\n",
        "    print (\"\\n\")\n",
        "\n",
        "\n",
        "  def __del__(self):\n",
        "        print('Destructor.')\n",
        "\n",
        "#Create object from the class.\n",
        "example = Example()\n",
        "\n",
        "#example is a handle to the object\n",
        "example.public_method()\n",
        "\n",
        "#will create an exception\n",
        "try:\n",
        "   example.__private_method()\n",
        "except:\n",
        "   print (\"Method can't be called.\")\n",
        "\n",
        "example.accessor_method()\n",
        "\n",
        "#delete object\n",
        "del example\n"
      ],
      "execution_count": null,
      "outputs": []
    },
    {
      "cell_type": "markdown",
      "metadata": {
        "id": "tkjIMHrb1f4z"
      },
      "source": [
        "<h1> Inheritance: </h1>\n",
        "In this example we create a subclass that inherits methods from the example class"
      ]
    },
    {
      "cell_type": "code",
      "metadata": {
        "id": "5RmE4Q791yHN"
      },
      "source": [
        "class Example_Child(Example):\n",
        "  \"\"\"\n",
        "  Example class is inherited by using the name\n",
        "  of the class as an argument to the class\n",
        "  \"\"\"\n",
        "\n",
        "  def __init__(self):\n",
        "    \"\"\"\n",
        "    Overide constructor for Example Class\n",
        "    This will execute, but not the one in the\n",
        "    parent class\n",
        "    \"\"\"\n",
        "    print (\"Child Class Constructor\")\n",
        "\n",
        "  def public_method(self):\n",
        "    \"\"\"\n",
        "    Overidden public method\n",
        "    \"\"\"\n",
        "    print (\"Child class Public Method\")\n",
        "\n",
        "  def access_parent(self):\n",
        "    \"\"\"\n",
        "    See what we can access from the example class.\n",
        "    \"\"\"\n",
        "    print (\"Calling Public Class from Example\")\n",
        "    Example.public_method(self)\n",
        "\n",
        "  def overloading_method(self,argument = None):\n",
        "    \"\"\"\n",
        "    Simulated method overloading\n",
        "    \"\"\"\n",
        "    if argument is None:\n",
        "      print (\"overloaded method: No Argument\")\n",
        "    elif type(argument) is str:\n",
        "      print (f\"overloaded method:String: {argument} \")\n",
        "    elif type(argument) is int:\n",
        "      print (f\"overloaded method:Integer: {argument} \")\n",
        "\n",
        "\n",
        "example_child = Example_Child()\n",
        "example_child.access_parent()\n",
        "example_child.public_method()\n",
        "\n",
        "example_child.overloading_method()\n",
        "example_child.overloading_method(\"String Value\")\n",
        "example_child.overloading_method(100)\n",
        "\n",
        "del example_child"
      ],
      "execution_count": null,
      "outputs": []
    },
    {
      "cell_type": "markdown",
      "metadata": {
        "id": "O4bHbvCs9UXS"
      },
      "source": [
        "<h1> Class, Instance and Static Methods </h1>\n",
        "\n",
        "Simple examples of class, instance, and static methods"
      ]
    },
    {
      "cell_type": "code",
      "metadata": {
        "id": "TNMWuR299n8q"
      },
      "source": [
        "class Example_Methods():\n",
        "  _example_variable = 10\n",
        "\n",
        "  @staticmethod\n",
        "  def static_method():\n",
        "    \"\"\"\n",
        "    This is a simple example of a static method\n",
        "    Note: no self keyword and the annotation of @staticmethod method\n",
        "    \"\"\"\n",
        "    print (\"Static Method\")\n",
        "\n",
        "  @classmethod\n",
        "  def class_method(cls):\n",
        "    \"\"\"\n",
        "    This is a simple example of a class method\n",
        "    Note: see the use of cls keyword and the annotation keyword @classmethof\n",
        "    \"\"\"\n",
        "    print (\"Class Method\")\n",
        "    print (f\"Class variable value {cls._example_variable} \")\n",
        "\n",
        "  def instance_method(self):\n",
        "    \"\"\"\n",
        "    This is simple example of a instance method\n",
        "    Note: see the use of self keyword\n",
        "    \"\"\"\n",
        "    print (\"Instance Method\")\n",
        "    print (f\"Instance variable value {self._example_variable} \")\n",
        "\n",
        "\n",
        "\n",
        "\n",
        "Example_Methods.static_method()\n",
        "Example_Methods.class_method()\n",
        "\n",
        "example_methods = Example_Methods()\n",
        "example_methods.instance_method()"
      ],
      "execution_count": null,
      "outputs": []
    },
    {
      "cell_type": "markdown",
      "metadata": {
        "id": "YdX3hy00Ga6t"
      },
      "source": [
        "<h1> Operator Overloading </h1>\n",
        "\n",
        "In this case we should simple operator overloading"
      ]
    },
    {
      "cell_type": "code",
      "metadata": {
        "id": "gX--R3y4Gk8P"
      },
      "source": [
        "class Operator_Overloading:\n",
        "    def __init__(self, argument):\n",
        "        self.argument = argument\n",
        "\n",
        "    def __add__(self, parameter):\n",
        "        \"\"\"\n",
        "        put custom behaviour here. At the moment\n",
        "        it is just a simple add. It can be change to anything\n",
        "\n",
        "        \"\"\"\n",
        "        return self.argument  + parameter.argument\n",
        "\n",
        "example_one = Operator_Overloading(1)\n",
        "example_two = Operator_Overloading(2)\n",
        "\n",
        "example_three = example_one + example_two\n",
        "print (example_three, type(example_three))"
      ],
      "execution_count": null,
      "outputs": []
    }
  ]
}